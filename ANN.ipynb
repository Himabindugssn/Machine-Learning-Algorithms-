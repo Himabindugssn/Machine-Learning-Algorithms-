{
  "nbformat": 4,
  "nbformat_minor": 0,
  "metadata": {
    "colab": {
      "name": "ANN.ipynb",
      "provenance": [],
      "include_colab_link": true
    },
    "kernelspec": {
      "name": "python3",
      "display_name": "Python 3"
    }
  },
  "cells": [
    {
      "cell_type": "markdown",
      "metadata": {
        "id": "view-in-github",
        "colab_type": "text"
      },
      "source": [
        "<a href=\"https://colab.research.google.com/github/Himabindugssn/Machine-Learning-Algorithms-/blob/main/ANN.ipynb\" target=\"_parent\"><img src=\"https://colab.research.google.com/assets/colab-badge.svg\" alt=\"Open In Colab\"/></a>"
      ]
    },
    {
      "cell_type": "code",
      "metadata": {
        "id": "HCe270CuXml2"
      },
      "source": [
        "import pandas as pd\n",
        "import numpy as np"
      ],
      "execution_count": null,
      "outputs": []
    },
    {
      "cell_type": "markdown",
      "metadata": {
        "id": "S3WIf5sa61fJ"
      },
      "source": [
        "# ANN without hidden layers (built for OR function)"
      ]
    },
    {
      "cell_type": "code",
      "metadata": {
        "id": "hEExs1qEXrPE",
        "colab": {
          "base_uri": "https://localhost:8080/"
        },
        "outputId": "b4508b99-7b11-42ee-9bfa-2bb61ca466a2"
      },
      "source": [
        "\n",
        "# Define input features:\n",
        "input_features = np.array([[0,0],[0,1],[1,0],[1,1]])\n",
        "print (input_features.shape)\n",
        "print (\"input of dataset\",input_features)\n",
        "\n",
        "# Define target output:\n",
        "target_output = np.array([[0,1,1,1]])\n",
        "\n",
        "# Reshaping our target output into vector:\n",
        "target_output = target_output.reshape(4,1)\n",
        "\n",
        "#print(target_output.shape)\n",
        "print (\"output of dataset \",target_output)\n",
        "\n",
        "# Define weights:\n",
        "weights = np.array([[0.1],[0.2]])\n",
        "\n",
        "#print(weights.shape)\n",
        "print (\"weights initialized\",weights)\n",
        "\n",
        "# Bias weight:\n",
        "bias = 0.3\n",
        "\n",
        "# Learning Rate:\n",
        "lr = 0.05\n",
        "\n",
        "# Sigmoid function:\n",
        "def sigmoid(x):\n",
        " return 1/(1+np.exp(-x))\n",
        " \n",
        " \n",
        "# Derivative of sigmoid function:\n",
        "def sigmoid_der(x):\n",
        " return sigmoid(x)*(1-sigmoid(x))\n",
        " \n",
        "# neural network:\n",
        "\n",
        "# Running our code 10000 times:\n",
        "for epoch in range(10000):  \n",
        "  inputs = input_features\n",
        "\n",
        "  #Feedforward input:\n",
        "  in_o = np.dot(inputs, weights) + bias \n",
        "\n",
        "  #Feedforward output:\n",
        "  out_o = sigmoid(in_o) \n",
        "  \n",
        "  #Backpropogation :\n",
        "\n",
        "  #Calculating error\n",
        "  error = out_o - target_output\n",
        "  \n",
        "  #total error:\n",
        "  x = error.sum()\n",
        "  print(\"total error\",x)\n",
        "  \n",
        "  #Calculating derivative:\n",
        "  derror_douto = error  \n",
        "  douto_dino = sigmoid_der(out_o)\n",
        "  \n",
        "  #Multiplying individual derivatives:\n",
        "  deriv = derror_douto * douto_dino  #dl/do * do/din = derivative of loss /input\n",
        "  \n",
        "  \n",
        "  #Finding the transpose of input_features:\n",
        "  inputs = input_features.T\n",
        "  deriv_final = np.dot(inputs,deriv) #multiplying input with derivatives \n",
        "  \n",
        "  #Updating the weights values:\n",
        "  weights -= lr * deriv_final  # old weight - learning rate* derivative of loss/input\n",
        "  \n",
        "  #Updating the bias weight value:\n",
        "  for i in deriv:\n",
        "    bias -= lr * i #Check the final values for weight and biasprint (weights)\n",
        "  \n",
        "print (\"bias\",bias) \n",
        "\n",
        "#Taking inputs:\n",
        "single_point = np.array([1,0]) \n",
        "\n",
        "#1st step:\n",
        "result1 = np.dot(single_point, weights) + bias \n",
        "\n",
        "#2nd step:\n",
        "result2 = sigmoid(result1) \n",
        "\n",
        "#Print final result\n",
        "print(result2) \n",
        "\n",
        "#Taking inputs:\n",
        "single_point = np.array([1,1]) \n",
        "\n",
        "#1st step:\n",
        "result1 = np.dot(single_point, weights) + bias \n",
        "\n",
        "#2nd step:\n",
        "result2 = sigmoid(result1) \n",
        "\n",
        "#Print final result\n",
        "print(result2) \n",
        "\n",
        "#Taking inputs:\n",
        "single_point = np.array([0,0]) \n",
        "\n",
        "#1st step:\n",
        "result1 = np.dot(single_point, weights) + bias \n",
        "\n",
        "#2nd step:\n",
        "result2 = sigmoid(result1) \n",
        "\n",
        "#Print final result\n",
        "print(result2)\n"
      ],
      "execution_count": null,
      "outputs": [
        {
          "output_type": "stream",
          "text": [
            "(4, 2)\n",
            "input of dataset [[0 0]\n",
            " [0 1]\n",
            " [1 0]\n",
            " [1 1]]\n",
            "output of dataset  [[0]\n",
            " [1]\n",
            " [1]\n",
            " [1]]\n",
            "weights initialized [[0.1]\n",
            " [0.2]]\n",
            "bias 0.3\n",
            "[0.59868766]\n",
            "[0.64565631]\n",
            "[0.57444252]\n"
          ],
          "name": "stdout"
        }
      ]
    },
    {
      "cell_type": "markdown",
      "metadata": {
        "id": "WIf9RlRW6yUK"
      },
      "source": [
        "# ANN with hidden layers (for IRIS dataset)"
      ]
    },
    {
      "cell_type": "code",
      "metadata": {
        "id": "4ufil-XLrvNy"
      },
      "source": [
        "import seaborn as sns"
      ],
      "execution_count": null,
      "outputs": []
    },
    {
      "cell_type": "code",
      "metadata": {
        "id": "FF6UHuYm73P6"
      },
      "source": [
        "iris=sns.load_dataset('iris')"
      ],
      "execution_count": null,
      "outputs": []
    },
    {
      "cell_type": "code",
      "metadata": {
        "colab": {
          "base_uri": "https://localhost:8080/",
          "height": 204
        },
        "id": "fBaoo5Ct8stM",
        "outputId": "bcd53f0f-75bd-4beb-de29-aa37dc3ef201"
      },
      "source": [
        "iris.head()"
      ],
      "execution_count": null,
      "outputs": [
        {
          "output_type": "execute_result",
          "data": {
            "text/html": [
              "<div>\n",
              "<style scoped>\n",
              "    .dataframe tbody tr th:only-of-type {\n",
              "        vertical-align: middle;\n",
              "    }\n",
              "\n",
              "    .dataframe tbody tr th {\n",
              "        vertical-align: top;\n",
              "    }\n",
              "\n",
              "    .dataframe thead th {\n",
              "        text-align: right;\n",
              "    }\n",
              "</style>\n",
              "<table border=\"1\" class=\"dataframe\">\n",
              "  <thead>\n",
              "    <tr style=\"text-align: right;\">\n",
              "      <th></th>\n",
              "      <th>sepal_length</th>\n",
              "      <th>sepal_width</th>\n",
              "      <th>petal_length</th>\n",
              "      <th>petal_width</th>\n",
              "      <th>species</th>\n",
              "    </tr>\n",
              "  </thead>\n",
              "  <tbody>\n",
              "    <tr>\n",
              "      <th>0</th>\n",
              "      <td>5.1</td>\n",
              "      <td>3.5</td>\n",
              "      <td>1.4</td>\n",
              "      <td>0.2</td>\n",
              "      <td>setosa</td>\n",
              "    </tr>\n",
              "    <tr>\n",
              "      <th>1</th>\n",
              "      <td>4.9</td>\n",
              "      <td>3.0</td>\n",
              "      <td>1.4</td>\n",
              "      <td>0.2</td>\n",
              "      <td>setosa</td>\n",
              "    </tr>\n",
              "    <tr>\n",
              "      <th>2</th>\n",
              "      <td>4.7</td>\n",
              "      <td>3.2</td>\n",
              "      <td>1.3</td>\n",
              "      <td>0.2</td>\n",
              "      <td>setosa</td>\n",
              "    </tr>\n",
              "    <tr>\n",
              "      <th>3</th>\n",
              "      <td>4.6</td>\n",
              "      <td>3.1</td>\n",
              "      <td>1.5</td>\n",
              "      <td>0.2</td>\n",
              "      <td>setosa</td>\n",
              "    </tr>\n",
              "    <tr>\n",
              "      <th>4</th>\n",
              "      <td>5.0</td>\n",
              "      <td>3.6</td>\n",
              "      <td>1.4</td>\n",
              "      <td>0.2</td>\n",
              "      <td>setosa</td>\n",
              "    </tr>\n",
              "  </tbody>\n",
              "</table>\n",
              "</div>"
            ],
            "text/plain": [
              "   sepal_length  sepal_width  petal_length  petal_width species\n",
              "0           5.1          3.5           1.4          0.2  setosa\n",
              "1           4.9          3.0           1.4          0.2  setosa\n",
              "2           4.7          3.2           1.3          0.2  setosa\n",
              "3           4.6          3.1           1.5          0.2  setosa\n",
              "4           5.0          3.6           1.4          0.2  setosa"
            ]
          },
          "metadata": {
            "tags": []
          },
          "execution_count": 5
        }
      ]
    },
    {
      "cell_type": "code",
      "metadata": {
        "id": "q0StYvFJ82fF"
      },
      "source": [
        "iris=iris.sample(frac=1).reset_index(drop=True)"
      ],
      "execution_count": null,
      "outputs": []
    },
    {
      "cell_type": "code",
      "metadata": {
        "colab": {
          "base_uri": "https://localhost:8080/"
        },
        "id": "jssyli_T87ev",
        "outputId": "ab2b87e9-fd88-4ff3-dfa9-d973ef26f538"
      },
      "source": [
        "iris.columns"
      ],
      "execution_count": null,
      "outputs": [
        {
          "output_type": "execute_result",
          "data": {
            "text/plain": [
              "Index(['sepal_length', 'sepal_width', 'petal_length', 'petal_width',\n",
              "       'species'],\n",
              "      dtype='object')"
            ]
          },
          "metadata": {
            "tags": []
          },
          "execution_count": 8
        }
      ]
    },
    {
      "cell_type": "code",
      "metadata": {
        "colab": {
          "base_uri": "https://localhost:8080/"
        },
        "id": "Gc9bYm2_8uHZ",
        "outputId": "77cec4d0-90bb-46db-d778-2dfabc9a4cfa"
      },
      "source": [
        "X = iris[['sepal_length', 'sepal_width', 'petal_length', 'petal_width']]\n",
        "X = np.array(X)\n",
        "X[:5]"
      ],
      "execution_count": null,
      "outputs": [
        {
          "output_type": "execute_result",
          "data": {
            "text/plain": [
              "array([[5. , 3.3, 1.4, 0.2],\n",
              "       [6.4, 2.8, 5.6, 2.2],\n",
              "       [4.8, 3.4, 1.9, 0.2],\n",
              "       [5.5, 2.3, 4. , 1.3],\n",
              "       [5.8, 2.6, 4. , 1.2]])"
            ]
          },
          "metadata": {
            "tags": []
          },
          "execution_count": 9
        }
      ]
    },
    {
      "cell_type": "code",
      "metadata": {
        "colab": {
          "base_uri": "https://localhost:8080/"
        },
        "id": "2aQajoWP85yt",
        "outputId": "3eb78bea-2e23-4ad0-95f5-4fb5083a8241"
      },
      "source": [
        "from sklearn.preprocessing import OneHotEncoder\n",
        "one_hot_encoder = OneHotEncoder(sparse=False)\n",
        "\n",
        "Y = iris.species\n",
        "Y = one_hot_encoder.fit_transform(np.array(Y).reshape(-1, 1))\n",
        "Y[:5]"
      ],
      "execution_count": null,
      "outputs": [
        {
          "output_type": "execute_result",
          "data": {
            "text/plain": [
              "array([[1., 0., 0.],\n",
              "       [0., 0., 1.],\n",
              "       [1., 0., 0.],\n",
              "       [0., 1., 0.],\n",
              "       [0., 1., 0.]])"
            ]
          },
          "metadata": {
            "tags": []
          },
          "execution_count": 11
        }
      ]
    },
    {
      "cell_type": "code",
      "metadata": {
        "id": "_ileSpC19Cla"
      },
      "source": [
        "from sklearn.model_selection import train_test_split\n",
        "X_train, X_test, Y_train, Y_test = train_test_split(X, Y, test_size=0.15)\n",
        "X_train, X_val, Y_train, Y_val = train_test_split(X_train, Y_train, test_size=0.1)"
      ],
      "execution_count": null,
      "outputs": []
    },
    {
      "cell_type": "code",
      "metadata": {
        "id": "qpPKJL5w9GP1"
      },
      "source": [
        "def NeuralNetwork(X_train, Y_train, X_val=None, Y_val=None, epochs=10, nodes=[], lr=0.15):\n",
        "  hidden_layers = len(nodes) - 1\n",
        "  weights = InitializeWeights(nodes)\n",
        "\n",
        "  for epoch in range(1, epochs+1):\n",
        "      weights = Train(X_train, Y_train, lr, weights)\n",
        "\n",
        "      if(epoch % 20 == 0):\n",
        "          print(\"Epoch {}\".format(epoch))\n",
        "          print(\"Training Accuracy:{}\".format(Accuracy(X_train, Y_train, weights)))\n",
        "          if X_val.any():\n",
        "              print(\"Validation Accuracy:{}\".format(Accuracy(X_val, Y_val, weights)))\n",
        "          \n",
        "  return weights"
      ],
      "execution_count": null,
      "outputs": []
    },
    {
      "cell_type": "code",
      "metadata": {
        "id": "OsPJnQ0Q9IjN"
      },
      "source": [
        "\n",
        "def InitializeWeights(nodes):\n",
        "  \"\"\"Initialize weights with random values in [-1, 1] (including bias)\"\"\"\n",
        "  layers, weights = len(nodes), []\n",
        "  \n",
        "  for i in range(1, layers):\n",
        "      w = [[np.random.uniform(-1, 1) for k in range(nodes[i-1] + 1)]\n",
        "            for j in range(nodes[i])]\n",
        "      weights.append(np.matrix(w))\n",
        "  \n",
        "  return weights"
      ],
      "execution_count": null,
      "outputs": []
    },
    {
      "cell_type": "code",
      "metadata": {
        "id": "vpuidVPd9KNf"
      },
      "source": [
        "def ForwardPropagation(x, weights, layers):\n",
        "  activations, layer_input = [x], x\n",
        "  for j in range(layers):\n",
        "      activation = Sigmoid(np.dot(layer_input, weights[j].T))\n",
        "      activations.append(activation)\n",
        "      layer_input = np.append(1, activation) # Augment with bias\n",
        "  \n",
        "  return activations"
      ],
      "execution_count": null,
      "outputs": []
    },
    {
      "cell_type": "code",
      "metadata": {
        "id": "gBPmUp459LtL"
      },
      "source": [
        "def BackPropagation(y, activations, weights, layers):\n",
        "  outputFinal = activations[-1]\n",
        "  error = np.matrix(y - outputFinal) # Error at output\n",
        "  \n",
        "  for j in range(layers, 0, -1):\n",
        "      currActivation = activations[j]\n",
        "      \n",
        "      if(j > 1):\n",
        "          # Augment previous activation\n",
        "          prevActivation = np.append(1, activations[j-1])\n",
        "      else:\n",
        "          # First hidden layer, prevActivation is input (without bias)\n",
        "          prevActivation = activations[0]\n",
        "      \n",
        "      delta = np.multiply(error, SigmoidDerivative(currActivation))\n",
        "      weights[j-1] += lr * np.multiply(delta.T, prevActivation)\n",
        "\n",
        "      w = np.delete(weights[j-1], [0], axis=1) # Remove bias from weights\n",
        "      error = np.dot(delta, w) # Calculate error for current layer\n",
        "  \n",
        "  return weights"
      ],
      "execution_count": null,
      "outputs": []
    },
    {
      "cell_type": "code",
      "metadata": {
        "id": "YHf9n0wB9Npn"
      },
      "source": [
        "def Train(X, Y, lr, weights):\n",
        "  layers = len(weights)\n",
        "  for i in range(len(X)):\n",
        "      x, y = X[i], Y[i]\n",
        "      x = np.matrix(np.append(1, x)) # Augment feature vector\n",
        "      \n",
        "      activations = ForwardPropagation(x, weights, layers)\n",
        "      weights = BackPropagation(y, activations, weights, layers)\n",
        "\n",
        "  return weights"
      ],
      "execution_count": null,
      "outputs": []
    },
    {
      "cell_type": "code",
      "metadata": {
        "id": "obAvB_Fr9PVk"
      },
      "source": [
        "def Sigmoid(x):\n",
        "  return 1 / (1 + np.exp(-x))\n",
        "\n",
        "def SigmoidDerivative(x):\n",
        "  return np.multiply(x, 1-x)"
      ],
      "execution_count": null,
      "outputs": []
    },
    {
      "cell_type": "code",
      "metadata": {
        "id": "9bpbsINc9QtW"
      },
      "source": [
        "def Predict(item, weights):\n",
        "  layers = len(weights)\n",
        "  item = np.append(1, item) # Augment feature vector\n",
        "  \n",
        "  ##_Forward Propagation_##\n",
        "  activations = ForwardPropagation(item, weights, layers)\n",
        "  \n",
        "  outputFinal = activations[-1].A1\n",
        "  index = FindMaxActivation(outputFinal)\n",
        "\n",
        "  # Initialize prediction vector to zeros\n",
        "  y = [0 for i in range(len(outputFinal))]\n",
        "  y[index] = 1  # Set guessed class to 1\n",
        "\n",
        "  return y # Return prediction vector"
      ],
      "execution_count": null,
      "outputs": []
    },
    {
      "cell_type": "code",
      "metadata": {
        "id": "Y5yWIOeB9Tw3"
      },
      "source": [
        "def FindMaxActivation(output):\n",
        "  \"\"\"Find max activation in output\"\"\"\n",
        "  m, index = output[0], 0\n",
        "  for i in range(1, len(output)):\n",
        "      if(output[i] > m):\n",
        "          m, index = output[i], i\n",
        "  \n",
        "  return index"
      ],
      "execution_count": null,
      "outputs": []
    },
    {
      "cell_type": "code",
      "metadata": {
        "id": "Nc6y2kjQ9VLR"
      },
      "source": [
        "def Accuracy(X, Y, weights):\n",
        "  \"\"\"Run set through network, find overall accuracy\"\"\"\n",
        "  correct = 0\n",
        "\n",
        "  for i in range(len(X)):\n",
        "      x, y = X[i], list(Y[i])\n",
        "      guess = Predict(x, weights)\n",
        "\n",
        "      if(y == guess):\n",
        "          # Guessed correctly\n",
        "          correct += 1\n",
        "\n",
        "  return correct / len(X)"
      ],
      "execution_count": null,
      "outputs": []
    },
    {
      "cell_type": "code",
      "metadata": {
        "colab": {
          "base_uri": "https://localhost:8080/"
        },
        "id": "g7UPkmGw9XSL",
        "outputId": "4f46aa75-821c-466d-a3d0-667a7015994f"
      },
      "source": [
        "f = len(X[0]) # Number of features\n",
        "o = len(Y[0]) # Number of outputs / classes\n",
        "\n",
        "layers = [f, 5, 10, o] # Number of nodes in layers\n",
        "lr, epochs = 0.15, 100\n",
        "\n",
        "weights = NeuralNetwork(X_train, Y_train, X_val, Y_val, epochs=epochs, nodes=layers, lr=lr);"
      ],
      "execution_count": null,
      "outputs": [
        {
          "output_type": "stream",
          "text": [
            "Epoch 20\n",
            "Training Accuracy:0.8859649122807017\n",
            "Validation Accuracy:0.8461538461538461\n",
            "Epoch 40\n",
            "Training Accuracy:0.9210526315789473\n",
            "Validation Accuracy:0.9230769230769231\n",
            "Epoch 60\n",
            "Training Accuracy:0.9824561403508771\n",
            "Validation Accuracy:1.0\n",
            "Epoch 80\n",
            "Training Accuracy:0.9824561403508771\n",
            "Validation Accuracy:1.0\n",
            "Epoch 100\n",
            "Training Accuracy:0.9824561403508771\n",
            "Validation Accuracy:1.0\n"
          ],
          "name": "stdout"
        }
      ]
    },
    {
      "cell_type": "code",
      "metadata": {
        "colab": {
          "base_uri": "https://localhost:8080/"
        },
        "id": "cl0X4Gl09Ytm",
        "outputId": "54130366-7562-4aa3-cf33-85cc222ad8f3"
      },
      "source": [
        "print(\"Testing Accuracy: {}\".format(Accuracy(X_test, Y_test, weights)))\n"
      ],
      "execution_count": null,
      "outputs": [
        {
          "output_type": "stream",
          "text": [
            "Testing Accuracy: 0.9130434782608695\n"
          ],
          "name": "stdout"
        }
      ]
    }
  ]
}