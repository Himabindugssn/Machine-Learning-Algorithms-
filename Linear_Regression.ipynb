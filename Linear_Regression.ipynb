{
  "nbformat": 4,
  "nbformat_minor": 0,
  "metadata": {
    "colab": {
      "name": "Linear Regression.ipynb",
      "provenance": [],
      "authorship_tag": "ABX9TyNPisv7i+yZ/1CxWJobME+B",
      "include_colab_link": true
    },
    "kernelspec": {
      "name": "python3",
      "display_name": "Python 3"
    }
  },
  "cells": [
    {
      "cell_type": "markdown",
      "metadata": {
        "id": "view-in-github",
        "colab_type": "text"
      },
      "source": [
        "<a href=\"https://colab.research.google.com/github/Himabindugssn/Machine-Learning-Algorithms-/blob/main/Linear_Regression.ipynb\" target=\"_parent\"><img src=\"https://colab.research.google.com/assets/colab-badge.svg\" alt=\"Open In Colab\"/></a>"
      ]
    },
    {
      "cell_type": "code",
      "metadata": {
        "id": "iLzglEJn3YzV"
      },
      "source": [
        "import numpy as np\n",
        "import pandas as pd\n",
        "import matplotlib.pyplot as plt"
      ],
      "execution_count": null,
      "outputs": []
    },
    {
      "cell_type": "code",
      "metadata": {
        "id": "VkiXxqsdwBT8"
      },
      "source": [
        "import numpy as np\n",
        "import copy\n",
        "\n",
        "class MultipleLinearRegression():\n",
        "    def __init__(self):\n",
        "        self.coefficients = None\n",
        "        self.intercept = None\n",
        "\n",
        "    def fit(self, x, y):\n",
        "        # prepare x and y values for coefficient estimates\n",
        "        x = self._transform_x(x)\n",
        "        y = self._transform_y(y)\n",
        "\n",
        "        betas = self._estimate_coefficients(x, y)\n",
        "        #print(\"betas\",betas,\"\\n\")\n",
        "\n",
        "        # intercept becomes a vector of ones\n",
        "        self.intercept = betas[0]\n",
        "\n",
        "        # coefficients becomes the rest of the betas\n",
        "        self.coefficients = betas[1:]\n",
        "\n",
        "    def predict(self, x):\n",
        "        '''\n",
        "            y = b_0 + b_1*x + ... + b_i*x_i\n",
        "        '''\n",
        "        predictions = []\n",
        "        for index, row in x.iterrows():\n",
        "            \n",
        "            values = row.values\n",
        "            #print(\"values\",values,\"\\n\")\n",
        "            pred = np.multiply(values, self.coefficients)\n",
        "            pred = sum(pred)\n",
        "            #print(\"pred\",pred,\"\\n\")\n",
        "            pred += self.intercept\n",
        "            predictions.append(pred)\n",
        "\n",
        "        return predictions\n",
        "\n",
        "    def r2_score(self, y_true, y_pred):\n",
        "        '''\n",
        "            r2 = 1 - (rss/tss)\n",
        "            rss = sum_{i=0}^{n} (y_i - y_hat)^2\n",
        "            tss = sum_{i=0}^{n} (y_i - y_bar)^2\n",
        "        '''\n",
        "        y_values = y_true.values\n",
        "        y_average = np.average(y_values)\n",
        "\n",
        "        residual_sum_of_squares = 0\n",
        "        total_sum_of_squares = 0\n",
        "\n",
        "        for i in range(len(y_values)):\n",
        "            residual_sum_of_squares += (y_values[i] - y_pred[i])**2\n",
        "            total_sum_of_squares += (y_values[i] - y_average)**2\n",
        "\n",
        "        return 1 - (residual_sum_of_squares/total_sum_of_squares)\n",
        "\n",
        "    def _transform_x(self, x):\n",
        "        x = copy.deepcopy(x)\n",
        "        x.insert(0, 'ones', np.ones( (x.shape[0], 1) ))\n",
        "        return x.values\n",
        "\n",
        "    def _transform_y(self, y):\n",
        "        y = copy.deepcopy(y)\n",
        "        return y.values\n",
        "\n",
        "    def _estimate_coefficients(self, x, y):\n",
        "        '''\n",
        "            β = (X^T X)^-1 X^T y\n",
        "            Estimates both the intercept and all coefficients.\n",
        "        '''\n",
        "        xT = x.transpose()\n",
        "\n",
        "        inversed = np.linalg.inv( xT.dot(x) )\n",
        "        coefficients = inversed.dot( xT ).dot(y)\n",
        "\n",
        "        return coefficients"
      ],
      "execution_count": null,
      "outputs": []
    },
    {
      "cell_type": "code",
      "metadata": {
        "id": "W7PZRo7wwINT"
      },
      "source": [
        "from sklearn.datasets import load_boston\n",
        "import pandas as pd\n",
        "from sklearn.model_selection import train_test_split\n",
        "\n",
        "def sklearn_to_df(data_loader):\n",
        "    X_data = data_loader.data\n",
        "    X_columns = data_loader.feature_names\n",
        "    X = pd.DataFrame(X_data, columns=X_columns)\n",
        "\n",
        "    y_data = data_loader.target\n",
        "    y = pd.Series(y_data, name='target')\n",
        "\n",
        "    return X, y\n",
        "\n",
        "x, y = sklearn_to_df(load_boston())\n",
        "\n",
        "x_train, x_test, y_train, y_test = train_test_split(x, y, test_size=0.2, random_state=42)"
      ],
      "execution_count": null,
      "outputs": []
    },
    {
      "cell_type": "code",
      "metadata": {
        "id": "uJTANbx3wkXX"
      },
      "source": [
        "import seaborn as sns\n"
      ],
      "execution_count": null,
      "outputs": []
    },
    {
      "cell_type": "code",
      "metadata": {
        "id": "62l02TG6wnEl",
        "outputId": "de0353d2-82cf-44d1-b2bf-45755bd24035",
        "colab": {
          "base_uri": "https://localhost:8080/"
        }
      },
      "source": [
        "!pip install seaborn"
      ],
      "execution_count": null,
      "outputs": [
        {
          "output_type": "stream",
          "text": [
            "Requirement already satisfied: seaborn in /usr/local/lib/python3.6/dist-packages (0.11.0)\n",
            "Requirement already satisfied: pandas>=0.23 in /usr/local/lib/python3.6/dist-packages (from seaborn) (1.1.4)\n",
            "Requirement already satisfied: numpy>=1.15 in /usr/local/lib/python3.6/dist-packages (from seaborn) (1.18.5)\n",
            "Requirement already satisfied: scipy>=1.0 in /usr/local/lib/python3.6/dist-packages (from seaborn) (1.4.1)\n",
            "Requirement already satisfied: matplotlib>=2.2 in /usr/local/lib/python3.6/dist-packages (from seaborn) (3.2.2)\n",
            "Requirement already satisfied: pytz>=2017.2 in /usr/local/lib/python3.6/dist-packages (from pandas>=0.23->seaborn) (2018.9)\n",
            "Requirement already satisfied: python-dateutil>=2.7.3 in /usr/local/lib/python3.6/dist-packages (from pandas>=0.23->seaborn) (2.8.1)\n",
            "Requirement already satisfied: cycler>=0.10 in /usr/local/lib/python3.6/dist-packages (from matplotlib>=2.2->seaborn) (0.10.0)\n",
            "Requirement already satisfied: kiwisolver>=1.0.1 in /usr/local/lib/python3.6/dist-packages (from matplotlib>=2.2->seaborn) (1.3.1)\n",
            "Requirement already satisfied: pyparsing!=2.0.4,!=2.1.2,!=2.1.6,>=2.0.1 in /usr/local/lib/python3.6/dist-packages (from matplotlib>=2.2->seaborn) (2.4.7)\n",
            "Requirement already satisfied: six>=1.5 in /usr/local/lib/python3.6/dist-packages (from python-dateutil>=2.7.3->pandas>=0.23->seaborn) (1.15.0)\n"
          ],
          "name": "stdout"
        }
      ]
    },
    {
      "cell_type": "code",
      "metadata": {
        "id": "XtSCdQ_OwUa6",
        "outputId": "9e685d61-287e-4386-9668-c2464b1250e6",
        "colab": {
          "base_uri": "https://localhost:8080/"
        }
      },
      "source": [
        "from sklearn.linear_model import LinearRegression\n",
        "\n",
        "# Our Multiple Linear Regression \n",
        "mlr = MultipleLinearRegression()\n",
        "\n",
        "# fit our LR to our data\n",
        "mlr.fit(x_train, y_train)\n",
        "\n",
        "# make predictions and score\n",
        "pred = mlr.predict(x_test)\n",
        "\n",
        "mlr.r2_score(y_test,pred)"
      ],
      "execution_count": null,
      "outputs": [
        {
          "output_type": "execute_result",
          "data": {
            "text/plain": [
              "0.6687594935355815"
            ]
          },
          "metadata": {
            "tags": []
          },
          "execution_count": 20
        }
      ]
    },
    {
      "cell_type": "code",
      "metadata": {
        "id": "mVI7CJD2w1la",
        "outputId": "63fbfcb3-6e0f-4c2e-9310-590272328daa",
        "colab": {
          "base_uri": "https://localhost:8080/"
        }
      },
      "source": [
        "# Scikit-Learn's Linear Regression \n",
        "sk_mlr = LinearRegression()\n",
        "\n",
        "# fit scikit-learn's LR to our data\n",
        "sk_mlr.fit(x_train, y_train)\n",
        "\n",
        "# predicts and scores\n",
        "sk_score = sk_mlr.score(x_test, y_test)\n",
        "print('Scikit-Learn R^2 score:',sk_score)"
      ],
      "execution_count": null,
      "outputs": [
        {
          "output_type": "stream",
          "text": [
            "Scikit-Learn R^2 score: 0.6687594935356307\n"
          ],
          "name": "stdout"
        }
      ]
    },
    {
      "cell_type": "code",
      "metadata": {
        "id": "dr1YH4OSxioN"
      },
      "source": [
        ""
      ],
      "execution_count": null,
      "outputs": []
    }
  ]
}